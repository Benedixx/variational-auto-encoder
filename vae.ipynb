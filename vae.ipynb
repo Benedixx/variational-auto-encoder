{
 "cells": [
  {
   "cell_type": "code",
   "execution_count": 19,
   "metadata": {},
   "outputs": [],
   "source": [
    "import numpy as np\n",
    "import tensorflow as tf\n",
    "import matplotlib.pyplot as plt\n",
    "import tensorflow_datasets as tfds\n",
    "from tensorflow.keras import layers, models"
   ]
  },
  {
   "cell_type": "code",
   "execution_count": 11,
   "metadata": {},
   "outputs": [],
   "source": [
    "BATCH_SIZE= 16\n",
    "IMAGE_SIZE= (28,28,1)\n",
    "NUM_CLASSES= 10\n",
    "LATENT_DIM= 2"
   ]
  },
  {
   "cell_type": "code",
   "execution_count": 15,
   "metadata": {},
   "outputs": [],
   "source": [
    "def map_image(image, label):\n",
    "    image= tf.cast(image, tf.float32)\n",
    "    image= image/255.0\n",
    "    image= tf.reshape(image, shape= IMAGE_SIZE)\n",
    "    \n",
    "    return image\n",
    "\n",
    "def get_dataset(map_func):\n",
    "    dataset= tfds.load('mnist', as_supervised= True, split= 'train')\n",
    "    dataset= dataset.map(map_func)\n",
    "    \n",
    "    return dataset"
   ]
  },
  {
   "cell_type": "code",
   "execution_count": 16,
   "metadata": {},
   "outputs": [],
   "source": [
    "train_dataset= get_dataset(map_image)"
   ]
  },
  {
   "cell_type": "code",
   "execution_count": 17,
   "metadata": {},
   "outputs": [
    {
     "name": "stdout",
     "output_type": "stream",
     "text": [
      "tfds.core.DatasetInfo(\n",
      "    name='mnist',\n",
      "    full_name='mnist/3.0.1',\n",
      "    description=\"\"\"\n",
      "    The MNIST database of handwritten digits.\n",
      "    \"\"\",\n",
      "    homepage='http://yann.lecun.com/exdb/mnist/',\n",
      "    data_path='C:\\\\Users\\\\ASUS TUF GAMING\\\\tensorflow_datasets\\\\mnist\\\\3.0.1',\n",
      "    file_format=tfrecord,\n",
      "    download_size=11.06 MiB,\n",
      "    dataset_size=21.00 MiB,\n",
      "    features=FeaturesDict({\n",
      "        'image': Image(shape=(28, 28, 1), dtype=uint8),\n",
      "        'label': ClassLabel(shape=(), dtype=int64, num_classes=10),\n",
      "    }),\n",
      "    supervised_keys=('image', 'label'),\n",
      "    disable_shuffling=False,\n",
      "    splits={\n",
      "        'test': <SplitInfo num_examples=10000, num_shards=1>,\n",
      "        'train': <SplitInfo num_examples=60000, num_shards=1>,\n",
      "    },\n",
      "    citation=\"\"\"@article{lecun2010mnist,\n",
      "      title={MNIST handwritten digit database},\n",
      "      author={LeCun, Yann and Cortes, Corinna and Burges, CJ},\n",
      "      journal={ATT Labs [Online]. Available: http://yann.lecun.com/exdb/mnist},\n",
      "      volume={2},\n",
      "      year={2010}\n",
      "    }\"\"\",\n",
      ")\n"
     ]
    }
   ],
   "source": [
    "builder = tfds.builder('mnist')\n",
    "info = builder.info\n",
    "print(info)"
   ]
  },
  {
   "cell_type": "code",
   "execution_count": 18,
   "metadata": {},
   "outputs": [],
   "source": [
    "class Sampling(tf.keras.layers.Layer): \n",
    "    def call(self, inputs):\n",
    "        mu, sigma= inputs\n",
    "        batch = tf.shape(mu)[0]\n",
    "        dim= tf.shape(mu)[1]\n",
    "        epsilon= tf.keras.backend.random_normal(shape=(batch, dim))\n",
    "        \n",
    "        return mu + tf.exp(0.5 * sigma) * epsilon"
   ]
  },
  {
   "cell_type": "code",
   "execution_count": 20,
   "metadata": {},
   "outputs": [],
   "source": [
    "def encoder(inputs, latent_dim):\n",
    "    x= layers.Conv2D(32, 3, 2, 'same', activation= 'relu', name= 'encoder_conv1')(inputs)\n",
    "    x= layers.BatchNormalization(name= 'encoder_bn1')(x)\n",
    "    x= layers.Conv2D(64, 3, 2, 'same', activation= 'relu', name= 'encoder_conv2')(x)\n",
    "    \n",
    "    batch_2 = layers.BatchNormalization(name= 'encoder_bn2')(x)\n",
    "    \n",
    "    x= layers.Flatten(name= '')\n",
    "    x= layers.Dense(20, activation= 'relu', name= 'encoder_dense1')(x)\n",
    "    x= layers.BatchNormalization(name= 'encoder_bn3')(x)\n",
    "    \n",
    "    mu= layers.Dense(latent_dim, name= 'latent_mu')(x)\n",
    "    sigma= layers.Dense(latent_dim, name= 'latent_sigma')(x)\n",
    "    \n",
    "    return mu, sigma, batch_2.shape"
   ]
  },
  {
   "cell_type": "code",
   "execution_count": null,
   "metadata": {},
   "outputs": [],
   "source": []
  }
 ],
 "metadata": {
  "kernelspec": {
   "display_name": "tf",
   "language": "python",
   "name": "python3"
  },
  "language_info": {
   "codemirror_mode": {
    "name": "ipython",
    "version": 3
   },
   "file_extension": ".py",
   "mimetype": "text/x-python",
   "name": "python",
   "nbconvert_exporter": "python",
   "pygments_lexer": "ipython3",
   "version": "3.9.18"
  }
 },
 "nbformat": 4,
 "nbformat_minor": 2
}
