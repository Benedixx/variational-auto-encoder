{
 "cells": [
  {
   "cell_type": "code",
   "execution_count": 87,
   "metadata": {},
   "outputs": [],
   "source": [
    "import numpy as np\n",
    "import tensorflow as tf\n",
    "from IPython import display\n",
    "import matplotlib.pyplot as plt\n",
    "import tensorflow_datasets as tfds\n",
    "from tensorflow.keras import layers"
   ]
  },
  {
   "cell_type": "code",
   "execution_count": 88,
   "metadata": {},
   "outputs": [],
   "source": [
    "BATCH_SIZE= 128\n",
    "IMAGE_SIZE= (28,28,1,)\n",
    "NUM_CLASSES= 10\n",
    "LATENT_DIM= 2"
   ]
  },
  {
   "cell_type": "code",
   "execution_count": 89,
   "metadata": {},
   "outputs": [],
   "source": [
    "def map_image(image, label):\n",
    "    image= tf.cast(image, tf.float32)\n",
    "    image= image/255.0\n",
    "    image= tf.reshape(image, shape= (28, 28, 1))\n",
    "    \n",
    "    \n",
    "    return image\n",
    "\n",
    "def get_dataset(map_func):\n",
    "    dataset= tfds.load('mnist', as_supervised= True, split= 'train')\n",
    "    dataset= dataset.map(map_func)\n",
    "    dataset = dataset.shuffle(1024).batch(BATCH_SIZE)\n",
    "    \n",
    "    return dataset"
   ]
  },
  {
   "cell_type": "code",
   "execution_count": 90,
   "metadata": {},
   "outputs": [],
   "source": [
    "train_dataset= get_dataset(map_image)"
   ]
  },
  {
   "cell_type": "code",
   "execution_count": 91,
   "metadata": {},
   "outputs": [
    {
     "name": "stdout",
     "output_type": "stream",
     "text": [
      "tfds.core.DatasetInfo(\n",
      "    name='mnist',\n",
      "    full_name='mnist/3.0.1',\n",
      "    description=\"\"\"\n",
      "    The MNIST database of handwritten digits.\n",
      "    \"\"\",\n",
      "    homepage='http://yann.lecun.com/exdb/mnist/',\n",
      "    data_path='C:\\\\Users\\\\ASUS TUF GAMING\\\\tensorflow_datasets\\\\mnist\\\\3.0.1',\n",
      "    file_format=tfrecord,\n",
      "    download_size=11.06 MiB,\n",
      "    dataset_size=21.00 MiB,\n",
      "    features=FeaturesDict({\n",
      "        'image': Image(shape=(28, 28, 1), dtype=uint8),\n",
      "        'label': ClassLabel(shape=(), dtype=int64, num_classes=10),\n",
      "    }),\n",
      "    supervised_keys=('image', 'label'),\n",
      "    disable_shuffling=False,\n",
      "    splits={\n",
      "        'test': <SplitInfo num_examples=10000, num_shards=1>,\n",
      "        'train': <SplitInfo num_examples=60000, num_shards=1>,\n",
      "    },\n",
      "    citation=\"\"\"@article{lecun2010mnist,\n",
      "      title={MNIST handwritten digit database},\n",
      "      author={LeCun, Yann and Cortes, Corinna and Burges, CJ},\n",
      "      journal={ATT Labs [Online]. Available: http://yann.lecun.com/exdb/mnist},\n",
      "      volume={2},\n",
      "      year={2010}\n",
      "    }\"\"\",\n",
      ")\n"
     ]
    }
   ],
   "source": [
    "builder = tfds.builder('mnist')\n",
    "info = builder.info\n",
    "print(info)"
   ]
  },
  {
   "cell_type": "code",
   "execution_count": 92,
   "metadata": {},
   "outputs": [],
   "source": [
    "class Sampling(tf.keras.layers.Layer): \n",
    "    def call(self, inputs):\n",
    "        mu, sigma= inputs\n",
    "        batch = tf.shape(mu)[0]\n",
    "        dim= tf.shape(mu)[1]\n",
    "        epsilon= tf.keras.backend.random_normal(shape=(batch, dim))\n",
    "        \n",
    "        return mu + tf.exp(0.5 * sigma) * epsilon"
   ]
  },
  {
   "cell_type": "code",
   "execution_count": 93,
   "metadata": {},
   "outputs": [],
   "source": [
    "def encoder(inputs, latent_dim):\n",
    "    x= layers.Conv2D(32, 3, 2, 'same', activation= 'relu', name= 'encoder_conv1')(inputs)\n",
    "    x= layers.BatchNormalization(name= 'encoder_bn1')(x)\n",
    "    x= layers.Conv2D(64, 3, 2, 'same', activation= 'relu', name= 'encoder_conv2')(x)\n",
    "    \n",
    "    batch_2 = layers.BatchNormalization(name= 'encoder_bn2')(x)\n",
    "    \n",
    "    x= layers.Flatten()(batch_2)\n",
    "    x= layers.Dense(20, activation= 'relu', name= 'encoder_dense1')(x)\n",
    "    x= layers.BatchNormalization(name= 'encoder_bn3')(x)\n",
    "    \n",
    "    mu= layers.Dense(latent_dim, name= 'latent_mu')(x)\n",
    "    sigma= layers.Dense(latent_dim, name= 'latent_sigma')(x)\n",
    "    \n",
    "    return mu, sigma, batch_2.shape"
   ]
  },
  {
   "cell_type": "code",
   "execution_count": 94,
   "metadata": {},
   "outputs": [],
   "source": [
    "def encoder_model(latent_dim, input_shape):\n",
    "    inputs= layers.Input(shape= input_shape)\n",
    "    mu, sigma, conv_shape= encoder(inputs, LATENT_DIM)\n",
    "    z= Sampling()((mu, sigma))\n",
    "    model= tf.keras.Model(inputs, outputs= [mu, sigma, z])\n",
    "    \n",
    "    return model, conv_shape"
   ]
  },
  {
   "cell_type": "code",
   "execution_count": 95,
   "metadata": {},
   "outputs": [],
   "source": [
    "def decoder(inputs, conv_shape):\n",
    "    units= conv_shape[1]*conv_shape[2]*conv_shape[3]\n",
    "    x= layers.Dense(units, activation= 'relu', name= 'decoder_dense1')(inputs)\n",
    "    x= layers.BatchNormalization(name= 'decoder_bn1')(x)\n",
    "    x= layers.Reshape((conv_shape[1], conv_shape[2], conv_shape[3]), name= 'decoder_reshape')(x)\n",
    "    x= layers.Conv2DTranspose(64, 3, 2, 'same', activation= 'relu', name= 'decoder_conv1')(x)\n",
    "    x= layers.BatchNormalization(name= 'decoder_bn2')(x)\n",
    "    x= layers.Conv2DTranspose(32, 3, 2, 'same', activation= 'relu', name= 'decoder_conv2')(x)\n",
    "    x= layers.BatchNormalization(name= 'decoder_bn3')(x)\n",
    "    x= layers.Conv2DTranspose(1, 3, 1, 'same', activation= 'sigmoid', name= 'decoder_conv3')(x)\n",
    "    \n",
    "    return x"
   ]
  },
  {
   "cell_type": "code",
   "execution_count": 96,
   "metadata": {},
   "outputs": [],
   "source": [
    "def decoder_model(latent_dim, conv_shape):\n",
    "    inputs= layers.Input(shape=(latent_dim,))\n",
    "    outputs= decoder(inputs, conv_shape)\n",
    "    model= tf.keras.Model(inputs, outputs)\n",
    "    \n",
    "    return model"
   ]
  },
  {
   "cell_type": "code",
   "execution_count": 97,
   "metadata": {},
   "outputs": [],
   "source": [
    "# custom loss kullback leibler divergence\n",
    "\n",
    "def kl_loss(mu, sigma):\n",
    "    kl_loss= 1 + sigma - tf.square(mu) - tf.math.exp(sigma)\n",
    "    kl_loss= tf.reduce_mean(kl_loss)*-0.5\n",
    "    \n",
    "    return kl_loss"
   ]
  },
  {
   "cell_type": "code",
   "execution_count": 98,
   "metadata": {},
   "outputs": [],
   "source": [
    "def vae_model(encoder, decoder, input_shape):\n",
    "    inputs= layers.Input(shape= input_shape)\n",
    "    mu, sigma, z= encoder(inputs)\n",
    "    reconstructions= decoder(z)\n",
    "    model= tf.keras.Model(inputs, reconstructions)\n",
    "    \n",
    "    loss= kl_loss(mu, sigma)\n",
    "    model.add_loss(loss)\n",
    "    \n",
    "    return model"
   ]
  },
  {
   "cell_type": "code",
   "execution_count": 99,
   "metadata": {},
   "outputs": [],
   "source": [
    "def get_models(input_shape, latent_dim):\n",
    "    encoder, conv_shape= encoder_model(latent_dim, input_shape)\n",
    "    decoder= decoder_model(latent_dim, conv_shape)\n",
    "    vae= vae_model(encoder, decoder, input_shape)\n",
    "    \n",
    "    return encoder, decoder, vae"
   ]
  },
  {
   "cell_type": "code",
   "execution_count": 100,
   "metadata": {},
   "outputs": [],
   "source": [
    "encoder, decoder, vae= get_models(IMAGE_SIZE, LATENT_DIM)"
   ]
  },
  {
   "cell_type": "code",
   "execution_count": 101,
   "metadata": {},
   "outputs": [],
   "source": [
    "optimizer= tf.keras.optimizers.Adam(learning_rate= 0.001)\n",
    "loss_metric= tf.keras.metrics.Mean()\n",
    "BCE_loss= tf.keras.losses.BinaryCrossentropy()"
   ]
  },
  {
   "cell_type": "code",
   "execution_count": 102,
   "metadata": {},
   "outputs": [],
   "source": [
    "def generate_and_save_images(model, epoch, step, test_input):\n",
    "  predictions = model.predict(test_input)\n",
    "\n",
    "  fig = plt.figure(figsize=(4,4))\n",
    "\n",
    "  for i in range(predictions.shape[0]):\n",
    "      plt.subplot(4, 4, i+1)\n",
    "      plt.imshow(predictions[i, :, :, 0], cmap='gray')\n",
    "      plt.axis('off')\n",
    "\n",
    "  fig.suptitle(\"epoch: {}, step: {}\".format(epoch, step))\n",
    "  plt.savefig('image_at_epoch_{:04d}_step{:04d}.png'.format(epoch, step))\n",
    "  plt.show()"
   ]
  },
  {
   "cell_type": "code",
   "execution_count": 103,
   "metadata": {},
   "outputs": [
    {
     "name": "stdout",
     "output_type": "stream",
     "text": [
      "Model: \"model_12\"\n",
      "__________________________________________________________________________________________________\n",
      " Layer (type)                   Output Shape         Param #     Connected to                     \n",
      "==================================================================================================\n",
      " input_13 (InputLayer)          [(None, 28, 28, 1)]  0           []                               \n",
      "                                                                                                  \n",
      " encoder_conv1 (Conv2D)         (None, 14, 14, 32)   320         ['input_13[0][0]']               \n",
      "                                                                                                  \n",
      " encoder_bn1 (BatchNormalizatio  (None, 14, 14, 32)  128         ['encoder_conv1[0][0]']          \n",
      " n)                                                                                               \n",
      "                                                                                                  \n",
      " encoder_conv2 (Conv2D)         (None, 7, 7, 64)     18496       ['encoder_bn1[0][0]']            \n",
      "                                                                                                  \n",
      " encoder_bn2 (BatchNormalizatio  (None, 7, 7, 64)    256         ['encoder_conv2[0][0]']          \n",
      " n)                                                                                               \n",
      "                                                                                                  \n",
      " flatten_4 (Flatten)            (None, 3136)         0           ['encoder_bn2[0][0]']            \n",
      "                                                                                                  \n",
      " encoder_dense1 (Dense)         (None, 20)           62740       ['flatten_4[0][0]']              \n",
      "                                                                                                  \n",
      " encoder_bn3 (BatchNormalizatio  (None, 20)          80          ['encoder_dense1[0][0]']         \n",
      " n)                                                                                               \n",
      "                                                                                                  \n",
      " latent_mu (Dense)              (None, 2)            42          ['encoder_bn3[0][0]']            \n",
      "                                                                                                  \n",
      " latent_sigma (Dense)           (None, 2)            42          ['encoder_bn3[0][0]']            \n",
      "                                                                                                  \n",
      " sampling_4 (Sampling)          (None, 2)            0           ['latent_mu[0][0]',              \n",
      "                                                                  'latent_sigma[0][0]']           \n",
      "                                                                                                  \n",
      "==================================================================================================\n",
      "Total params: 82,104\n",
      "Trainable params: 81,872\n",
      "Non-trainable params: 232\n",
      "__________________________________________________________________________________________________\n"
     ]
    }
   ],
   "source": [
    "encoder.summary()"
   ]
  },
  {
   "cell_type": "code",
   "execution_count": 104,
   "metadata": {},
   "outputs": [
    {
     "name": "stdout",
     "output_type": "stream",
     "text": [
      "1/1 [==============================] - 0s 27ms/step\n"
     ]
    },
    {
     "data": {
      "image/png": "[encoded data removed]",
      "text/plain": [
       "<Figure size 400x400 with 16 Axes>"
      ]
     },
     "metadata": {},
     "output_type": "display_data"
    },
    {
     "name": "stdout",
     "output_type": "stream",
     "text": [
      "Epoch: 99 step: 400 mean loss = 145.1198\n"
     ]
    }
   ],
   "source": [
    "random_vector_for_generation = tf.random.normal(shape=[16, LATENT_DIM])\n",
    "\n",
    "epochs = 100\n",
    "\n",
    "generate_and_save_images(decoder, 0, 0, random_vector_for_generation)\n",
    "\n",
    "for epoch in range(epochs):\n",
    "  print('Start of epoch %d' % (epoch,))\n",
    "\n",
    "  for step, x_batch_train in enumerate(train_dataset):\n",
    "    with tf.GradientTape() as tape:\n",
    "\n",
    "      reconstructed = vae(x_batch_train)\n",
    "\n",
    "      flattened_inputs = tf.reshape(x_batch_train, shape=[-1])\n",
    "      flattened_outputs = tf.reshape(reconstructed, shape=[-1])\n",
    "      loss = BCE_loss(flattened_inputs, flattened_outputs) * 784\n",
    "      \n",
    "      loss += sum(vae.losses)  \n",
    "\n",
    "    grads = tape.gradient(loss, vae.trainable_weights)\n",
    "    optimizer.apply_gradients(zip(grads, vae.trainable_weights))\n",
    "\n",
    "    loss_metric(loss)\n",
    "\n",
    "    if step % 100 == 0:\n",
    "      display.clear_output(wait=False)    \n",
    "      generate_and_save_images(decoder, epoch, step, random_vector_for_generation)\n",
    "      print('Epoch: %s step: %s mean loss = %s' % (epoch, step, loss_metric.result().numpy()))"
   ]
  }
 ],
 "metadata": {
  "kernelspec": {
   "display_name": "tf",
   "language": "python",
   "name": "python3"
  },
  "language_info": {
   "codemirror_mode": {
    "name": "ipython",
    "version": 3
   },
   "file_extension": ".py",
   "mimetype": "text/x-python",
   "name": "python",
   "nbconvert_exporter": "python",
   "pygments_lexer": "ipython3",
   "version": "3.9.18"
  }
 },
 "nbformat": 4,
 "nbformat_minor": 2
}
